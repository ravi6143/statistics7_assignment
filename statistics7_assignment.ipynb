{
 "cells": [
  {
   "cell_type": "markdown",
   "id": "8e010380-8e33-4501-9935-32149da1fca5",
   "metadata": {},
   "source": [
    "# Question - 1\n",
    "ans - "
   ]
  },
  {
   "cell_type": "code",
   "execution_count": 6,
   "id": "8d9cf027-1fad-459b-ba05-df77fea3ab53",
   "metadata": {},
   "outputs": [],
   "source": [
    "import numpy as np\n",
    "import scipy.stats as stats\n",
    "import pandas as pd\n",
    "\n",
    "\n",
    "\n",
    "def variance_ratio_test(data1,data2):\n",
    "    \n",
    "    np.random.seed(0)\n",
    "    data1 = np.random.randint(10,20,15)\n",
    "    data2 = np.random.randint(8,18,15)\n",
    "    \n",
    "    var1 = np.var(data1 , ddof = 1)\n",
    "    var2 = np.var(data2 , ddof = 1)\n",
    "    \n",
    "    f_value = var1/var2\n",
    "    \n",
    "    df1 = len(data1) - 1\n",
    "    df2 = len(data2) - 1\n",
    "    \n",
    "    \n",
    "    \n",
    "    \n",
    "    p_value = 1-stats.f.cdf(f_value , df1 , df2)\n",
    "    \n",
    "    return f_value , p_value\n"
   ]
  },
  {
   "cell_type": "code",
   "execution_count": 7,
   "id": "daae927e-2f98-4981-9e8a-b9717f57b74e",
   "metadata": {},
   "outputs": [
    {
     "data": {
      "text/plain": [
       "(0.7830845771144279, 0.6732149048291758)"
      ]
     },
     "execution_count": 7,
     "metadata": {},
     "output_type": "execute_result"
    }
   ],
   "source": [
    "variance_ratio_test(data1 , data2)"
   ]
  },
  {
   "cell_type": "code",
   "execution_count": null,
   "id": "0e2bda46-5bbd-40f8-8c0a-975a302398fb",
   "metadata": {},
   "outputs": [],
   "source": []
  },
  {
   "cell_type": "code",
   "execution_count": null,
   "id": "11fa5c6a-1a36-494f-a748-f46c7867253a",
   "metadata": {},
   "outputs": [],
   "source": []
  },
  {
   "cell_type": "code",
   "execution_count": null,
   "id": "2709331c-ec9c-414f-9613-8595528ecd38",
   "metadata": {},
   "outputs": [],
   "source": []
  },
  {
   "cell_type": "markdown",
   "id": "47242676-719f-448c-b0b6-ce640a88fbaf",
   "metadata": {},
   "source": [
    "# Question - 2\n",
    "ans - "
   ]
  },
  {
   "cell_type": "code",
   "execution_count": 9,
   "id": "ab7ef36e-b124-43bf-83c4-ee250eb9c15a",
   "metadata": {},
   "outputs": [
    {
     "data": {
      "text/plain": [
       "(0.2073304979757461, 4.197046636945515)"
      ]
     },
     "execution_count": 9,
     "metadata": {},
     "output_type": "execute_result"
    }
   ],
   "source": [
    "import scipy.stats as stats\n",
    "\n",
    "\n",
    "\n",
    "df1 = 7\n",
    "df2 = 9\n",
    "alpha = 0.05\n",
    "\n",
    "def critical_F_value(alpha , df1 , df2):\n",
    "    \n",
    "    alpha_div_2 = alpha / 2\n",
    "    \n",
    "    lower_critical_value = stats.f.ppf(alpha_div_2 , df1 , df2)\n",
    "    upper_critical_value = stats.f.ppf(1 - alpha_div_2 , df1 , df2)\n",
    "    \n",
    "    \n",
    "    return lower_critical_value , upper_critical_value\n",
    "\n",
    "critical_F_value(alpha , df1 , df2)"
   ]
  },
  {
   "cell_type": "code",
   "execution_count": null,
   "id": "6404825a-45e3-4c20-b51a-7f941224c46a",
   "metadata": {},
   "outputs": [],
   "source": []
  },
  {
   "cell_type": "code",
   "execution_count": null,
   "id": "076506d3-555b-46d0-8752-84f089461d1a",
   "metadata": {},
   "outputs": [],
   "source": []
  },
  {
   "cell_type": "code",
   "execution_count": null,
   "id": "c5ebe457-6ac7-416f-a13b-7baddc35676d",
   "metadata": {},
   "outputs": [],
   "source": []
  },
  {
   "cell_type": "markdown",
   "id": "a20f922c-8232-444a-9d3d-f2ffaddbd3b8",
   "metadata": {},
   "source": [
    "# Question - 3\n",
    "ans - "
   ]
  },
  {
   "cell_type": "code",
   "execution_count": 13,
   "id": "5f649a3d-105a-448d-8be8-f572edbed0d1",
   "metadata": {},
   "outputs": [
    {
     "name": "stdout",
     "output_type": "stream",
     "text": [
      "f value is 0.831312877543631\n",
      "p vlaue is 0.6221284919430606\n",
      "failed to reject the null hypothesis , variance are equal\n"
     ]
    }
   ],
   "source": [
    "import numpy as np\n",
    "import scipy.stats as stats\n",
    "\n",
    "\n",
    "sample_size1 = 30\n",
    "\n",
    "sample_size2 = 30\n",
    "\n",
    "mean1 = 0\n",
    "var1 = 2\n",
    "mean2 = 1\n",
    "var2 = 3\n",
    "\n",
    "\n",
    "data1 = np.random.normal(loc = mean1 , scale = np.sqrt(var1) , size = sample_size1)\n",
    "data2 = np.random.normal(loc = mean2 , scale = np.sqrt(var2) , size = sample_size2)\n",
    "\n",
    "\n",
    "df1 = len(data1) - 1\n",
    "df2 = len(data2) - 1\n",
    "\n",
    "f_value = np.var(data1 , ddof = 1) / np.var(data2 , ddof = 1)\n",
    "\n",
    "p_value = 2 * min(stats.f.cdf(f_value , df1 , df2) , 1- stats.f.cdf(f_value , df1 , df2))\n",
    "\n",
    "\n",
    "print(f\"f value is {f_value}\")\n",
    "print(f\"p vlaue is {p_value}\")\n",
    "\n",
    "if p_value < 0.05:\n",
    "    print('we reject the null hypohtesis , variance are  not equal')\n",
    "    \n",
    "    \n",
    "else:\n",
    "    print(\"failed to reject the null hypothesis , variance are equal\")\n",
    "\n"
   ]
  },
  {
   "cell_type": "code",
   "execution_count": null,
   "id": "917bfc64-1834-4bd0-b5ce-c7e95bdeac36",
   "metadata": {},
   "outputs": [],
   "source": []
  },
  {
   "cell_type": "code",
   "execution_count": null,
   "id": "071b2963-1bc1-44bc-973b-e35717d411ea",
   "metadata": {},
   "outputs": [],
   "source": []
  },
  {
   "cell_type": "code",
   "execution_count": null,
   "id": "25f10c3b-a978-4313-a205-6dcb7e59a923",
   "metadata": {},
   "outputs": [],
   "source": []
  },
  {
   "cell_type": "markdown",
   "id": "240f2034-22f7-4848-ab76-eec136eabb39",
   "metadata": {},
   "source": [
    "# Question - 4\n",
    "ans - "
   ]
  },
  {
   "cell_type": "code",
   "execution_count": 4,
   "id": "92219e5f-d252-4e75-bc31-999b17178d3a",
   "metadata": {},
   "outputs": [
    {
     "name": "stdout",
     "output_type": "stream",
     "text": [
      "f value is 0.6666666666666666\n",
      "critical value is 3.473699051085809\n",
      "failed to reject the null hypothesis\n"
     ]
    }
   ],
   "source": [
    "import scipy.stats as stats\n",
    "\n",
    "var1 = 10\n",
    "var2 = 15\n",
    "sample_size1 = 12\n",
    "sample_size2 = 12\n",
    "df1 = sample_size - 1\n",
    "df2 = sample_size2 - 1\n",
    "alpha = 0.05\n",
    "\n",
    "\n",
    "\n",
    "f_value  = var1 / var2\n",
    "\n",
    "print(f\"f value is {f_value}\")\n",
    "\n",
    "\n",
    "critical_value  = stats.f.ppf(1- alpha /2 , df1 ,df2 )\n",
    "print(f\"critical value is {critical_value}\")\n",
    "\n",
    "\n",
    "if f_value > critical_value:\n",
    "    print(\"reject the null hypothesis  , \") \n",
    "    \n",
    "else:\n",
    "    print(\"failed to reject the null hypothesis\")"
   ]
  },
  {
   "cell_type": "code",
   "execution_count": null,
   "id": "aa9319e8-aee8-4c75-b26a-457a6283a140",
   "metadata": {},
   "outputs": [],
   "source": []
  },
  {
   "cell_type": "code",
   "execution_count": null,
   "id": "fff92277-990b-4107-9565-6a4a51c94a95",
   "metadata": {},
   "outputs": [],
   "source": [
    "\n"
   ]
  },
  {
   "cell_type": "code",
   "execution_count": null,
   "id": "5c00e4f5-8610-422d-b811-7da44977b940",
   "metadata": {},
   "outputs": [],
   "source": []
  },
  {
   "cell_type": "markdown",
   "id": "5bb4d61f-10df-4ec1-9b9b-44bcc715aac2",
   "metadata": {},
   "source": [
    "# Question - 5\n",
    "ans - "
   ]
  },
  {
   "cell_type": "code",
   "execution_count": 7,
   "id": "52301b0c-4b45-4865-a764-e3d49706c7d6",
   "metadata": {},
   "outputs": [
    {
     "name": "stdout",
     "output_type": "stream",
     "text": [
      " f statistics is 28.799999999999997\n",
      "p value is 1.0\n",
      "failed to reject the null hypothesis , claim is  justified\n"
     ]
    }
   ],
   "source": [
    "import scipy.stats as stats\n",
    "\n",
    "\n",
    "significance = 0.01\n",
    "claimed_variance = 0.005\n",
    "sample_variance = 0.006\n",
    "\n",
    "sample_size = 25\n",
    "\n",
    "df = sample_size - 1\n",
    "\n",
    "\n",
    "f_statistics = (sample_variance/claimed_variance) * df\n",
    "print(f\" f statistics is {f_statistics}\")\n",
    "\n",
    "\n",
    "p_value = 1 - stats.f.cdf(f_statistics , df , float('inf') )\n",
    "print(f\"p value is {p_value}\")\n",
    "\n",
    "if p_value < significance:\n",
    "    print(f\"reject the null hypothesis ,claim is not justified \")\n",
    "    \n",
    "else:\n",
    "    print(\"failed to reject the null hypothesis , claim is  justified\")"
   ]
  },
  {
   "cell_type": "code",
   "execution_count": null,
   "id": "ea8865de-225f-4a37-8eed-cf511748b149",
   "metadata": {},
   "outputs": [],
   "source": []
  },
  {
   "cell_type": "code",
   "execution_count": null,
   "id": "9155e58e-339a-422d-abae-423b5783d99e",
   "metadata": {},
   "outputs": [],
   "source": []
  },
  {
   "cell_type": "code",
   "execution_count": null,
   "id": "9d9df373-09ad-4ceb-b397-6c0f7bab55e3",
   "metadata": {},
   "outputs": [],
   "source": []
  },
  {
   "cell_type": "markdown",
   "id": "6d3c5c11-f817-47c1-8464-cd21920dc9cc",
   "metadata": {},
   "source": [
    "# Question - 6\n",
    "ans - "
   ]
  },
  {
   "cell_type": "code",
   "execution_count": 1,
   "id": "8b865021-df43-455c-bd1b-01622156cd93",
   "metadata": {},
   "outputs": [],
   "source": [
    "def mean_variance():\n",
    "    \n",
    "    df_numerator = int(input(\"enter degree of freedom for numerator of F dsitibution\"))\n",
    "    df_denominator = int(input(\"enter degree of freedom for denominator of F distribution\"))\n",
    "    \n",
    "    mean = df_denominator / (df_denominator - 2)\n",
    "    \n",
    "    variance = (2 * df_denominator **2 / (df_numerator+df_denominator - 2)) /(df_numerator * (df_denominator - 2)**2 * (df_denominator - 4))\n",
    "        \n",
    "    return mean , variance    \n",
    "\n",
    "    \n",
    "    "
   ]
  },
  {
   "cell_type": "code",
   "execution_count": 2,
   "id": "20cb5673-a351-4d7a-afc3-89c5833e736d",
   "metadata": {},
   "outputs": [
    {
     "name": "stdin",
     "output_type": "stream",
     "text": [
      "enter degree of freedom for numerator of F dsitibution 2\n",
      "enter degree of freedom for denominator of F distribution 9\n"
     ]
    },
    {
     "data": {
      "text/plain": [
       "(1.2857142857142858, 0.036734693877551024)"
      ]
     },
     "execution_count": 2,
     "metadata": {},
     "output_type": "execute_result"
    }
   ],
   "source": [
    "mean_variance()"
   ]
  },
  {
   "cell_type": "code",
   "execution_count": null,
   "id": "feacd4af-5654-4824-bfeb-00afc7932d88",
   "metadata": {},
   "outputs": [],
   "source": []
  },
  {
   "cell_type": "code",
   "execution_count": null,
   "id": "e776cbef-fe43-4343-9423-0f867276f13f",
   "metadata": {},
   "outputs": [],
   "source": []
  },
  {
   "cell_type": "markdown",
   "id": "d453a7f4-62c9-4bfc-a8f9-5a824736b6e5",
   "metadata": {},
   "source": [
    "# Question - 7\n",
    "ans - "
   ]
  },
  {
   "cell_type": "code",
   "execution_count": 1,
   "id": "472a307c-f3fa-48aa-9576-8790ec4f7048",
   "metadata": {},
   "outputs": [
    {
     "name": "stdout",
     "output_type": "stream",
     "text": [
      "f statisitcs is 1.25\n",
      "critical value is 2.6457907352338195\n",
      "failed to reject the null hypothesis , variances are not significantly different\n"
     ]
    }
   ],
   "source": [
    "import scipy.stats as stats\n",
    "\n",
    "\n",
    "sample1 = 10\n",
    "sample2 = 15\n",
    "\n",
    "df1 = sample1 - 1\n",
    "df2 = sample2 - 1\n",
    "\n",
    "alpha = 0.10\n",
    "\n",
    "var1 = 25\n",
    "var2 = 20\n",
    "\n",
    "f_statistics = var1 / var2\n",
    "print(f\"f statisitcs is {f_statistics}\")\n",
    "\n",
    "\n",
    "critical_value  = stats.f.ppf(1-alpha / 2 , df1 , df2)\n",
    "print(f\"critical value is {critical_value}\")\n",
    "\n",
    "\n",
    "if f_statistics > critical_value:\n",
    "    print(\"reject the null hypothesis , variances are significantly different\")\n",
    "    \n",
    "else:\n",
    "    print(\"failed to reject the null hypothesis , variances are not significantly different\")\n",
    "\n"
   ]
  },
  {
   "cell_type": "code",
   "execution_count": null,
   "id": "819549c1-80d0-4769-8dd9-4bcfbfd52765",
   "metadata": {},
   "outputs": [],
   "source": []
  },
  {
   "cell_type": "code",
   "execution_count": null,
   "id": "1b11f404-5aba-4a99-a699-79b0498c0ce1",
   "metadata": {},
   "outputs": [],
   "source": []
  },
  {
   "cell_type": "markdown",
   "id": "611c451b-5432-4eac-b5fa-f5840c988b8e",
   "metadata": {},
   "source": [
    "# Question - 8\n",
    "ans - "
   ]
  },
  {
   "cell_type": "code",
   "execution_count": 6,
   "id": "e4754b0c-3768-4557-9a85-3f5fd46c2ac5",
   "metadata": {},
   "outputs": [
    {
     "name": "stdout",
     "output_type": "stream",
     "text": [
      "f statistics is 1.496767651159843\n",
      "critical value is 6.977701858535566\n",
      "failed to reject the null hypothesis , variances are not significantly different\n"
     ]
    }
   ],
   "source": [
    "import scipy.stats as stats\n",
    "import numpy as np\n",
    "\n",
    "restaurent_A = [24, 25, 28, 23, 22, 20, 27]\n",
    "restaurent_B = [31, 33, 35, 30, 32, 36]\n",
    "\n",
    "var_A = np.var(restaurent_A )\n",
    "var_B = np.var(restaurent_B)\n",
    "\n",
    "alpha = 0.05\n",
    "\n",
    "df1 = len(restaurent_A) - 1\n",
    "df2 = len(restaurent_B) - 1\n",
    "\n",
    "\n",
    "f_statistics = var_A / var_B\n",
    "print(f\"f statistics is {f_statistics}\")\n",
    "\n",
    "critical_value = stats.f.ppf(1-alpha / 2 , df1 , df2)\n",
    "print(f\"critical value is {critical_value}\")\n",
    "\n",
    "\n",
    "if f_statistics > critical_value:\n",
    "    print(\"reject the null hypothesis  , variances are significantly different \")\n",
    "    \n",
    "else:\n",
    "    print(\"failed to reject the null hypothesis , variances are not significantly different\")"
   ]
  },
  {
   "cell_type": "code",
   "execution_count": null,
   "id": "d7a0e3dd-59f2-47b6-b0b3-164deff3c289",
   "metadata": {},
   "outputs": [],
   "source": []
  },
  {
   "cell_type": "code",
   "execution_count": null,
   "id": "757b4625-4934-494d-b3df-665d6fdb2b0d",
   "metadata": {},
   "outputs": [],
   "source": []
  },
  {
   "cell_type": "code",
   "execution_count": null,
   "id": "31d7f2d1-7f06-4822-b243-6ccfb828422f",
   "metadata": {},
   "outputs": [],
   "source": []
  },
  {
   "cell_type": "markdown",
   "id": "8f30c276-b976-4cf0-a569-f6e75ceacad8",
   "metadata": {},
   "source": [
    "# Question - 9\n",
    "ans - "
   ]
  },
  {
   "cell_type": "code",
   "execution_count": 8,
   "id": "286ff909-c38c-4f6d-bef9-a30dd730390e",
   "metadata": {},
   "outputs": [
    {
     "name": "stdout",
     "output_type": "stream",
     "text": [
      "f statistics is 1.9442622950819677\n",
      "critical value is 14.939605459912224\n",
      "failed to reject the null hypthesis , variance are not significanly different \n"
     ]
    }
   ],
   "source": [
    "import scipy.stats as stats\n",
    "import numpy as np\n",
    "\n",
    "alpha = 0.01\n",
    "group_A = [80, 85, 90, 92, 87, 83]\n",
    "group_B = [75, 78, 82, 79, 81, 84]\n",
    "\n",
    "df1 = len(group_A) - 1\n",
    "df2 = len(group_B) - 1\n",
    "\n",
    "var_A = np.var(group_A)\n",
    "var_B = np.var(group_B)\n",
    "\n",
    "\n",
    "f_statistics = var_A / var_B\n",
    "print(f\"f statistics is {f_statistics}\")\n",
    "\n",
    "critical_value = stats.f.ppf(1-alpha/2 , df1 , df2)\n",
    "print(f\"critical value is {critical_value}\")\n",
    "\n",
    "\n",
    "if f_statistics > critical_value:\n",
    "    print(\"reject the null hypothesis , variance are significantly different \")\n",
    "    \n",
    "else:\n",
    "    print(\"failed to reject the null hypthesis , variance are not significanly different \")"
   ]
  },
  {
   "cell_type": "code",
   "execution_count": null,
   "id": "d451f774-f4eb-4c27-a6eb-ad89eb11e2ba",
   "metadata": {},
   "outputs": [],
   "source": []
  }
 ],
 "metadata": {
  "kernelspec": {
   "display_name": "Python 3 (ipykernel)",
   "language": "python",
   "name": "python3"
  },
  "language_info": {
   "codemirror_mode": {
    "name": "ipython",
    "version": 3
   },
   "file_extension": ".py",
   "mimetype": "text/x-python",
   "name": "python",
   "nbconvert_exporter": "python",
   "pygments_lexer": "ipython3",
   "version": "3.10.8"
  }
 },
 "nbformat": 4,
 "nbformat_minor": 5
}
